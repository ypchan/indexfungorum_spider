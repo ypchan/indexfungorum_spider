{
 "cells": [
  {
   "cell_type": "markdown",
   "metadata": {},
   "source": [
    "# Automatically retrieve information from Indexfungorum using Selenium."
   ]
  },
  {
   "cell_type": "markdown",
   "metadata": {},
   "source": [
    "**Index Fungorum** is a dynamic webpage, making it impossible to directly scrape certain information using Python. [Link to Index Fungorum](https://indexfungorum.org/Names/Names.asp).\n",
    "\n",
    "\n",
    "**Selenium** provides an interactive way for humans to interface with Index Fungorum through user input."
   ]
  },
  {
   "cell_type": "raw",
   "metadata": {},
   "source": [
    "Steps:\n",
    "    1. Open Indexfungorm Search Pages\n",
    "    2. Input a group name and search\n",
    "    3. Get pages, parse every records and get the page of each records\n",
    "    4. Open pages of each record, and extract the information we need.\n",
    "    5. Check if the species have molecular data in NCBI nucleotide database\n",
    "    6. Output in xlsx file."
   ]
  },
  {
   "cell_type": "code",
   "execution_count": 69,
   "metadata": {},
   "outputs": [],
   "source": [
    "# Load required packages\n",
    "import re\n",
    "import os\n",
    "import sys\n",
    "import time\n",
    "import pandas as pd\n",
    "import requests\n",
    "\n",
    "from selenium import webdriver\n",
    "from selenium.webdriver.edge.service import Service\n",
    "from selenium.webdriver.common.by import By\n",
    "from Bio import Entrez\n",
    "\n",
    "from tqdm import tqdm # Providing progress bar,to monitor the program’s progress if the group contains thousands of records."
   ]
  },
  {
   "cell_type": "markdown",
   "metadata": {},
   "source": [
    "# Define functions"
   ]
  },
  {
   "cell_type": "code",
   "execution_count": 70,
   "metadata": {},
   "outputs": [],
   "source": [
    "def parse_search_page(html_doc):\n",
    "    RED = '\\033[31m'\n",
    "    GREEN = '\\033[32m'\n",
    "    YELLOW = '\\033[33m'\n",
    "    RESET = '\\033[0m'  # Reset color to default\n",
    "    \n",
    "    # Regex pattern to extract content between 'BofP</a>' and '<br><p><b>Pages:'\n",
    "    pattern = r'BofP</a>(.*?)<br><p><b>Pages:'\n",
    "    matches = re.findall(pattern, html_doc, re.DOTALL)\n",
    "    \n",
    "    if len(matches) == 1:\n",
    "        record_lst = matches[0].split(\"<br>\")\n",
    "    else:\n",
    "        sys.exit(f\"Failed to extract the expected content. Check function: parse_search_page\")\n",
    "\n",
    "    # List to hold parsed record information\n",
    "    records = []\n",
    "\n",
    "    # Iterate through the extracted record lines\n",
    "    for line in record_lst:\n",
    "        # Regex pattern to extract record name and link\n",
    "        try:\n",
    "            record_name_link_pattern = r'href=\"(NamesRecord.asp\\?RecordID=\\d+)\">([^<]+)'  # Match the record name and link\n",
    "            match0 = re.search(record_name_link_pattern, line, re.DOTALL)\n",
    "            record_name = match0.group(2)  # Get the record name\n",
    "            record_link = \"https://indexfungorum.org/Names/\" + match0.group(1)  # Construct the full URL\n",
    "        except:\n",
    "            print(f\"{RED}[Warning]{RESET} | {GREEN}{line}{RESET}\")\n",
    "            record_name = \"NA\"\n",
    "            record_link = \"NA\"\n",
    "\n",
    "        # Regex pattern to extract author and year\n",
    "        try:\n",
    "            author_year_pattern = r'</a>(.*?) (\\d{4})'  # Match author and year after closing </a>\n",
    "            match1 = re.search(author_year_pattern, line, re.DOTALL)\n",
    "            record_author = match1.group(1).replace(\"&amp;\",\"&\").strip()  # Get the author\n",
    "            year = match1.group(2)  # Get the year\n",
    "            #print(record_author,\"|\",year)\n",
    "        except:\n",
    "            print(f\"{RED}[Warning]{RESET} | {GREEN}{line}{RESET}\")\n",
    "            record_author = \"NA\"\n",
    "            year = \"NA\"\n",
    "\n",
    "        # Regex pattern to extract current name and link\n",
    "        try:\n",
    "            current_name_link_pattern = r'(http://www.speciesfungorum.org/Names/SynSpecies.asp\\?RecordID=\\d+)\">([^<]+)'  # Match current name and link\n",
    "            match2 = re.search(current_name_link_pattern, line)\n",
    "            current_name = match2.group(2)  # Get the current name\n",
    "            current_name_link = match2.group(1)  # Get the current name link\n",
    "            #print(current_name,\"|\",current_name_link)\n",
    "        except:\n",
    "            print(f\"{RED}[Warning]{RESET} | {GREEN}{line}{RESET}\")\n",
    "            current_name = \"NA\"\n",
    "            current_name_link = \"NA\"\n",
    "\n",
    "        # Append the record information as a list\n",
    "        records.append([record_name, record_author, year, record_link, current_name, current_name_link])\n",
    "\n",
    "    return records"
   ]
  },
  {
   "cell_type": "code",
   "execution_count": 71,
   "metadata": {},
   "outputs": [],
   "source": [
    "def search(group_name):\n",
    "    '''Input a record name and search for it.'''\n",
    "    \n",
    "    # Locate and clear the search box, then enter the search term\n",
    "    search_box = driver.find_element(By.NAME, 'SearchTerm')\n",
    "    search_box.clear()\n",
    "    search_box.send_keys(group_name)  # Use the correct variable (group_name)\n",
    "    \n",
    "    # Click the search button to initiate the search\n",
    "    search_btn = driver.find_element(By.CSS_SELECTOR, '[type=\"submit\"]')\n",
    "    search_btn.click()\n",
    "    \n",
    "    # Wait for the page to load\n",
    "    # time.sleep(5)\n",
    "\n",
    "    try:\n",
    "        # Extract the number of records displayed on the page\n",
    "        number_of_records = driver.find_element(By.XPATH, '/html/body/table/tbody/tr[2]/td/table/tbody/tr/td/p[1]/b[3]').text.split()[1]\n",
    "        number_of_records = int(number_of_records)\n",
    "    except Exception as e:\n",
    "        print(f\"Error: Failed to retrieve the number of records. {e}\")\n",
    "        return []\n",
    "\n",
    "    # Calculate the number of pages required to display all records\n",
    "    num_page = (number_of_records + 199) // 200  # This simplifies the page calculation logic\n",
    "    \n",
    "    # Output the number of pages and records for debugging\n",
    "    print(f'Number of pages   : {num_page}', file=sys.stdout, flush=True)\n",
    "    print(f'Number of records : {number_of_records}', file=sys.stdout, flush=True)\n",
    "    \n",
    "    #time.sleep(2)\n",
    "\n",
    "    # Initialize a list to store all records\n",
    "    all_records_lst = []\n",
    "\n",
    "    # Parse the first page\n",
    "    html = driver.page_source\n",
    "    records_lst = parse_search_page(html)\n",
    "    all_records_lst.extend(records_lst)\n",
    "    \n",
    "    # Parse additional pages, if any\n",
    "    if num_page >= 2:\n",
    "        for i in range(2, num_page + 1):\n",
    "            try:\n",
    "                # Locate and click the pagination button for the next page\n",
    "                css_pattern = f'[href=\"Names.asp?pg={i}\"]'\n",
    "                page_btn = driver.find_element(By.CSS_SELECTOR, css_pattern)\n",
    "                page_btn.click()\n",
    "\n",
    "                # Wait for the next page to load\n",
    "                #time.sleep(5)\n",
    "\n",
    "                # Parse the page source for records\n",
    "                html = driver.page_source\n",
    "                records_lst = parse_search_page(html)\n",
    "                all_records_lst.extend(records_lst)\n",
    "            except:\n",
    "                sys.exit(1)\n",
    "\n",
    "    # Check if the number of records matches the expected count\n",
    "    if len(all_records_lst) != number_of_records:\n",
    "        print('Warning: Some records did not contain links.')\n",
    "    \n",
    "    # Return the list of all records\n",
    "    return all_records_lst"
   ]
  },
  {
   "cell_type": "code",
   "execution_count": 72,
   "metadata": {},
   "outputs": [],
   "source": [
    "def check_nucleotide_records(df):\n",
    "    Entrez.email = \"chenyanpeng1992@outlook.com\"\n",
    "    unique_term_nucleotide_count_dict = {}\n",
    "    current_name_lst = list(set(df[\"Current_name\"]))\n",
    "    \n",
    "    for search_nucleotide_term in tqdm(current_name_lst,desc=\"query NCBI nucleotide\"):\n",
    "        search_nucleotide_term = \" \".join(search_nucleotide_term.split()[0:2])\n",
    "        if search_nucleotide_term not in unique_term_nucleotide_count_dict:\n",
    "            handle = Entrez.esearch(db=\"nucleotide\", term=search_nucleotide_term)\n",
    "            records = Entrez.read(handle)\n",
    "            unique_term_nucleotide_count_dict[search_nucleotide_term] = records['Count']\n",
    "    df['Nt_count'] = df['Current_name'].map(unique_term_nucleotide_count_dict)\n",
    "    return df"
   ]
  },
  {
   "cell_type": "code",
   "execution_count": 73,
   "metadata": {},
   "outputs": [],
   "source": [
    "def output(search_term, df):\n",
    "    # Export the DataFrame to Excel\n",
    "    time_suffix = time.strftime('%Y%m%d')\n",
    "    output_file = search_term + '_indexfungorum_records_' + str(time_suffix) + '.xlsx'\n",
    "    df.to_excel(output_file, index=False)"
   ]
  },
  {
   "cell_type": "markdown",
   "metadata": {},
   "source": [
    "# Use"
   ]
  },
  {
   "cell_type": "markdown",
   "metadata": {},
   "source": [
    "## Launch Indexfungorum"
   ]
  },
  {
   "cell_type": "code",
   "execution_count": 74,
   "metadata": {},
   "outputs": [],
   "source": [
    "s = Service(r'msedgedriver.exe')\n",
    "option = webdriver.EdgeOptions()\n",
    "\n",
    "#option.add_argument('--headless')  # hide search window\n",
    "#driver = webdriver.Edge(service=s, options = option)\n",
    "driver = webdriver.Edge(service=s)\n",
    "\n",
    "#driver.implicitly_wait(5) # active Edge searching engine and 5s for the browser to load the dat\n",
    "driver.get('http://www.indexfungorum.org/')\n",
    "\n",
    "search_index_fungorum_element = driver.find_element(By.CSS_SELECTOR, '[href=\"./Names/Names.asp\"]')\n",
    "search_index_fungorum_element.click()\n",
    "search_box = driver.find_element(By.NAME, 'SearchTerm')\n",
    "search_box.clear()"
   ]
  },
  {
   "cell_type": "markdown",
   "metadata": {},
   "source": [
    "## Search and parse"
   ]
  },
  {
   "cell_type": "code",
   "execution_count": 75,
   "metadata": {},
   "outputs": [
    {
     "name": "stdout",
     "output_type": "stream",
     "text": [
      "Number of pages   : 1\n",
      "Number of records : 13\n",
      "\u001b[31m[Warning]\u001b[0m | \u001b[32m<a class=\"LinkColour1\" href=\"NamesRecord.asp?RecordID=105561\">Neottiosporina cylindrica</a> B. Sutton &amp; Alcorn 1985; Ascomycota\u001b[0m\n"
     ]
    }
   ],
   "source": [
    "search_term = 'Neottiosporina'\n",
    "records_lst = search(search_term)\n",
    "driver.close()"
   ]
  },
  {
   "cell_type": "code",
   "execution_count": 76,
   "metadata": {},
   "outputs": [],
   "source": [
    "df = pd.DataFrame(records_lst, columns=['Name', 'Author', 'Year', 'Name_link', 'Current_name', 'Synonym_link'])\n",
    "df['Current_name'] = df.apply(\n",
    "    lambda row: \" \".join(row['Name'].split()[0:2]) if row['Current_name'] == \"NA\" else row['Current_name'],\n",
    "    axis=1\n",
    ")"
   ]
  },
  {
   "cell_type": "markdown",
   "metadata": {},
   "source": [
    "## Check if the name has sequence data"
   ]
  },
  {
   "cell_type": "code",
   "execution_count": 77,
   "metadata": {},
   "outputs": [
    {
     "name": "stderr",
     "output_type": "stream",
     "text": [
      "query NCBI nucleotide: 100%|███████████████████████████████████████████████████████████████████████| 13/13 [00:13<00:00,  1.03s/it]\n"
     ]
    }
   ],
   "source": [
    "df = check_nucleotide_records(df)"
   ]
  },
  {
   "cell_type": "markdown",
   "metadata": {},
   "source": [
    "## Output table"
   ]
  },
  {
   "cell_type": "code",
   "execution_count": 78,
   "metadata": {},
   "outputs": [],
   "source": [
    "output(search_term, df)"
   ]
  },
  {
   "cell_type": "markdown",
   "metadata": {},
   "source": [
    "# Describe table"
   ]
  },
  {
   "cell_type": "code",
   "execution_count": 82,
   "metadata": {},
   "outputs": [
    {
     "name": "stdout",
     "output_type": "stream",
     "text": [
      "2 name records were revised.\n"
     ]
    }
   ],
   "source": [
    "count = len(df[df['Current_name'].apply(lambda x: x.split()[0] != search_term)])\n",
    "print(f\"{count} name records were revised.\")"
   ]
  },
  {
   "cell_type": "code",
   "execution_count": 86,
   "metadata": {},
   "outputs": [
    {
     "name": "stdout",
     "output_type": "stream",
     "text": [
      "11 name records are valid right now.\n"
     ]
    },
    {
     "data": {
      "text/plain": [
       "['Neottiosporina apoda',\n",
       " 'Neottiosporina ashworthiae',\n",
       " 'Neottiosporina asymmetrica',\n",
       " 'Neottiosporina australiensis',\n",
       " 'Neottiosporina clavata',\n",
       " 'Neottiosporina cylindrica',\n",
       " 'Neottiosporina masonii',\n",
       " 'Neottiosporina mihintaleensis',\n",
       " 'Neottiosporina paspali',\n",
       " 'Neottiosporina phragmiticola',\n",
       " 'Neottiosporina sorghicola']"
      ]
     },
     "execution_count": 86,
     "metadata": {},
     "output_type": "execute_result"
    }
   ],
   "source": [
    "current_count = len(df[df['Current_name'].apply(lambda x: x.split()[0] == search_term)])\n",
    "print(f\"{current_count} name records are valid right now.\")\n",
    "df[df['Current_name'].apply(lambda x: x.split()[0] == search_term)][\"Current_name\"].tolist()"
   ]
  },
  {
   "cell_type": "code",
   "execution_count": null,
   "metadata": {},
   "outputs": [],
   "source": []
  }
 ],
 "metadata": {
  "kernelspec": {
   "display_name": "Python 3 (ipykernel)",
   "language": "python",
   "name": "python3"
  },
  "language_info": {
   "codemirror_mode": {
    "name": "ipython",
    "version": 3
   },
   "file_extension": ".py",
   "mimetype": "text/x-python",
   "name": "python",
   "nbconvert_exporter": "python",
   "pygments_lexer": "ipython3",
   "version": "3.11.3"
  },
  "latex_envs": {
   "LaTeX_envs_menu_present": true,
   "autoclose": false,
   "autocomplete": true,
   "bibliofile": "biblio.bib",
   "cite_by": "apalike",
   "current_citInitial": 1,
   "eqLabelWithNumbers": true,
   "eqNumInitial": 1,
   "hotkeys": {
    "equation": "Ctrl-E",
    "itemize": "Ctrl-I"
   },
   "labels_anchors": false,
   "latex_user_defs": false,
   "report_style_numbering": false,
   "user_envs_cfg": false
  },
  "toc": {
   "base_numbering": 1,
   "nav_menu": {},
   "number_sections": true,
   "sideBar": true,
   "skip_h1_title": false,
   "title_cell": "Table of Contents",
   "title_sidebar": "Contents",
   "toc_cell": false,
   "toc_position": {
    "height": "calc(100% - 180px)",
    "left": "10px",
    "top": "150px",
    "width": "284.431px"
   },
   "toc_section_display": true,
   "toc_window_display": false
  },
  "varInspector": {
   "cols": {
    "lenName": 16,
    "lenType": 16,
    "lenVar": 40
   },
   "kernels_config": {
    "python": {
     "delete_cmd_postfix": "",
     "delete_cmd_prefix": "del ",
     "library": "var_list.py",
     "varRefreshCmd": "print(var_dic_list())"
    },
    "r": {
     "delete_cmd_postfix": ") ",
     "delete_cmd_prefix": "rm(",
     "library": "var_list.r",
     "varRefreshCmd": "cat(var_dic_list()) "
    }
   },
   "types_to_exclude": [
    "module",
    "function",
    "builtin_function_or_method",
    "instance",
    "_Feature"
   ],
   "window_display": false
  }
 },
 "nbformat": 4,
 "nbformat_minor": 4
}
